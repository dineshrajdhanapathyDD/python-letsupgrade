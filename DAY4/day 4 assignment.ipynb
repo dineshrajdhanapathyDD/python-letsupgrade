{
 "cells": [
  {
   "cell_type": "code",
   "execution_count": 19,
   "metadata": {},
   "outputs": [
    {
     "name": "stdout",
     "output_type": "stream",
     "text": [
      "enter the number of element list8\n",
      "1\n",
      "3\n",
      "4\n",
      "6\n",
      "1\n",
      "3\n",
      "2\n",
      "5\n",
      "[1, 3, 4, 6, 1, 3, 2, 5]\n",
      "its match\n"
     ]
    }
   ],
   "source": [
    "#Write a program to identify sub list [1,1,5] is there in the given list in the same order, \n",
    "#if yes print “it's a Match” if no then print “it's Gone” in function\n",
    "\n",
    "lst = []\n",
    "a = (int(input(\"enter the number of element list\")))\n",
    "\n",
    "for i in range(0,a):\n",
    "    i = int(input())\n",
    "    lst.append(i)\n",
    "print(lst)\n",
    "b = [1,1,5]\n",
    "if b[0] == lst[0]:\n",
    "    if b[1] == lst[4]:\n",
    "        if b[2] == lst[7]:\n",
    "            print(\"its match\")\n",
    "else:\n",
    "    print(\"its gone\")\n",
    "    \n",
    "                "
   ]
  },
  {
   "cell_type": "markdown",
   "metadata": {},
   "source": [
    "# OPITIONAL ASSIGNMENT"
   ]
  },
  {
   "cell_type": "code",
   "execution_count": 30,
   "metadata": {},
   "outputs": [
    {
     "name": "stdout",
     "output_type": "stream",
     "text": [
      "enter the message encrypt-All-convoYs-9-be-Alert1\n",
      "enter the encryption number-4\n",
      "Encrypted message= Epp-gsrzsCw-3-fi-Epivx5\n"
     ]
    }
   ],
   "source": [
    "#You are assigned to develop a cipher program to encrypt the message. Your cipher must rotate every\n",
    "#character in the message by a fixed number making it unreadable by enemies\n",
    "\n",
    "import string\n",
    "msg = str(input(\"enter the message encrypt-\"))\n",
    "encrypt_no = int(input(\"enter the encryption number-\"))\n",
    "lower_case = list(string.ascii_lowercase)\n",
    "upper_case = list(string.ascii_uppercase)\n",
    "nos = ['0','1','2','3','4','5','6','7','8','9']\n",
    "encrypt = []\n",
    "for i in msg:\n",
    "    if i in lower_case:\n",
    "        encrypt.append(lower_case[lower_case.index(i)+encrypt_no-26])\n",
    "    elif i in upper_case:\n",
    "        encrypt.append(upper_case[upper_case.index(i)+encrypt_no-26])\n",
    "    elif i in nos:\n",
    "        encrypt.append(nos[nos.index(i)+encrypt_no-10])\n",
    "    else:\n",
    "        encrypt.append(i)\n",
    "str_join = \"\".join(encrypt)\n",
    "print(\"Encrypted message= \"+str_join)"
   ]
  },
  {
   "cell_type": "code",
   "execution_count": null,
   "metadata": {},
   "outputs": [],
   "source": []
  }
 ],
 "metadata": {
  "kernelspec": {
   "display_name": "Python 3",
   "language": "python",
   "name": "python3"
  },
  "language_info": {
   "codemirror_mode": {
    "name": "ipython",
    "version": 3
   },
   "file_extension": ".py",
   "mimetype": "text/x-python",
   "name": "python",
   "nbconvert_exporter": "python",
   "pygments_lexer": "ipython3",
   "version": "3.7.6"
  }
 },
 "nbformat": 4,
 "nbformat_minor": 4
}
